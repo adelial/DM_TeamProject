{
 "cells": [
  {
   "cell_type": "markdown",
   "metadata": {},
   "source": [
    "# Team Project Data Mining  - MSDS 7331\n",
    "### Name: Cynthia Alvarado, Christopher Havenstein, Alma Lopez, Hieu Nguyen\n",
    "#### Notepad for H-1 Visa project\n",
    "Public Disclosure File: H-1B iCERT LCA\n",
    "Federal Fiscal Year: 2016\n",
    "Reporting Period: October 1, 2015 through September 30, 2016\n",
    "Important Note: This public disclosure file contains administrative data from employers’ Labor Condition Applications (ETA Forms 9035 & 9035E) and the certification determinations processed by the Department’s Office of Foreign Labor Certification, Employment and Training Administration where the date of the determination was issued on or after October 1, 2015, and on or before September 30, 2016. All data were extracted from the Office of Foreign Labor Certification’s iCERT Visa Portal System; an electronic filing and application processing system of employer requests for H-1B nonimmigrant workers."
   ]
  },
  {
   "cell_type": "markdown",
   "metadata": {},
   "source": [
    "## Business Understanding"
   ]
  },
  {
   "cell_type": "markdown",
   "metadata": {},
   "source": [
    "## Data Meaning Type\n",
    "\n",
    "#### CASE_NUMBER - Unique identifier assigned to each application submitted for processing to the Chicago National Processing Center.\n",
    "#### CASE_STATUS - Status associated with the last significant event or decision. Valid values include “Certified,” “Certified-Withdrawn,” Denied,” and “Withdrawn”.\n",
    "#### CASE_SUBMITTED - Date and time the application was submitted.\n",
    "#### DECISION_DATE - Date on which the last significant event or decision was recorded by the Chicago National Processing Center.\n",
    "#### VISA_CLASS - Indicates the type of temporary application submitted for processing. R = H-1B; A = E-3 Australian; C = H-1B1 Chile; S = H-1B1 Singapore. Also referred to as “Program” in prior years.\n",
    "#### EMPLOYMENT_START_DATE - Beginning date of employment\n",
    "EMPLOYMENT_END_DATE - Ending date of employment\n",
    "EMPLOYER_NAME - Name of employer submitting labor condition application.\n",
    "EMPLOYER_ADDRESS\n",
    "EMPLOYER_CITY\n",
    "EMPLOYER_STATE\n",
    "EMPLOYER_POSTAL_CODE\n",
    "EMPLOYER_COUNTRY\n",
    "EMPLOYER_PROVINCE\n",
    "EMPLOYER_PHONE\n",
    "EMPLOYER_PHONE_EXT\n",
    "AGENT_ATTORNEY_NAME - Name of Agent or Attorney filing an H-1B application on behalf of the employer.\n",
    "AGENT_ATTORNEY_CITY - City information for the Agent or Attorney filing an H-1B application on behalf of the employer.\n",
    "AGENT_ATTORNEY_STATE - State information for the Agent or Attorney filing an H-1B application on behalf of the employer.\n",
    "JOB_TITLE - Title of the job\n",
    "SOC_CODE - Occupational code associated with the job being requested for temporary labor condition, as classified by the Standard Occupational Classification (SOC) System.\n",
    "SOC_NAME - Occupational name associated with the SOC_CODE\n",
    "NAIC_CODE - Industry code associated with the employer requesting permanent labor condition, as classified by the North American Industrial Classification System (NAICS)\n",
    "TOTAL_WORKERS - Total number of foreign workers requested by the Employer(s)\n",
    "FULL_TIME_POSITION - Y = Full Time Position; N = Part Time Position\n",
    "PREVAILING_WAGE - Prevailing Wage for the job being requested for temporary labor condition.\n",
    "PW_UNIT_OF_PAY - Unit of Pay. Valid values include “Daily (DAI),” “Hourly (HR),” “Bi-weekly (BI),” “Weekly (WK),” “Monthly (MTH),” and “Yearly (YR)”\n",
    "PW_SOURCE - Variables include \"OES\", \"CBA\", \"DBA\", \"SCA\" or \"Other\"\n",
    "PW_SOURCE_YEAR - Year the Prevailing Wage Source was Issued\n",
    "PW_SOURCE_OTHER - If \"Other Wage Source\", provide the source of wage\n",
    "WAGE_RATE_OF_PAY_FROM - Employer’s proposed wage rate\n",
    "WAGE_RATE_OF_PAY_TO - Maximum proposed wage rate\n",
    "WAGE_UNIT_OF_PAY - Unit of pay. Valid values include “Hour\", \"Week\", \"Bi-Weekly\", \"Month\", or \"Year\"\n",
    "H-1B_DEPENDENT - Y = Employer is H-1B Dependent; N = Employer is not H-1B Dependent.\n",
    "WILLFUL_VIOLATOR - Y = Employer has been previously found to be a Willful Violator; N = Employer has not been considered a Willful Violator.\n",
    "WORKSITE_CITY - City information of the foreign worker's intended area of employment.\n",
    "WORKSITE_COUNTY - County information of the foreign worker's intended area of employment\n",
    "WORKSITE_STATE - State information of the foreign worker's intended area of employment\n",
    "WORKSITE_POSTAL_CODE - Zip Code information of the foreign worker's intended area of employment\n",
    "ORIGINAL_CERT_DATE - Original Certification Date for a Certified_Withdrawn application\n"
   ]
  },
  {
   "cell_type": "markdown",
   "metadata": {},
   "source": [
    "## Data Quality"
   ]
  },
  {
   "cell_type": "code",
   "execution_count": 1,
   "metadata": {
    "collapsed": true
   },
   "outputs": [],
   "source": [
    "#Import libraries\n",
    "import pandas as pd\n",
    "import math"
   ]
  },
  {
   "cell_type": "code",
   "execution_count": 2,
   "metadata": {
    "collapsed": false,
    "scrolled": true
   },
   "outputs": [
    {
     "name": "stderr",
     "output_type": "stream",
     "text": [
      "C:\\Users\\Alma_Lopez\\Anaconda3\\lib\\site-packages\\IPython\\core\\interactiveshell.py:2717: DtypeWarning: Columns (14,15) have mixed types. Specify dtype option on import or set low_memory=False.\n",
      "  interactivity=interactivity, compiler=compiler, result=result)\n"
     ]
    }
   ],
   "source": [
    "#Load Data\n",
    "filename = \"C:\\Alma@SMU\\MSDS_7331_DM\\H1Visa_Project\\H-1B_Disclosure_Data_FY16.csv\"\n",
    "H1VisaData_df = pd.read_csv(filename, encoding='cp1252')"
   ]
  },
  {
   "cell_type": "code",
   "execution_count": 3,
   "metadata": {
    "collapsed": false
   },
   "outputs": [
    {
     "data": {
      "text/plain": [
       "CASE_NUMBER                   0\n",
       "CASE_STATUS                   0\n",
       "CASE_SUBMITTED                0\n",
       "DECISION_DATE                 0\n",
       "VISA_CLASS                    0\n",
       "EMPLOYMENT_START_DATE        17\n",
       "EMPLOYMENT_END_DATE          25\n",
       "EMPLOYER_NAME                15\n",
       "EMPLOYER_ADDRESS              5\n",
       "EMPLOYER_CITY                 6\n",
       "EMPLOYER_STATE               34\n",
       "EMPLOYER_POSTAL_CODE         21\n",
       "EMPLOYER_COUNTRY              3\n",
       "EMPLOYER_PROVINCE        640180\n",
       "EMPLOYER_PHONE                3\n",
       "EMPLOYER_PHONE_EXT       613590\n",
       "AGENT_ATTORNEY_NAME           0\n",
       "AGENT_ATTORNEY_CITY      241534\n",
       "AGENT_ATTORNEY_STATE     252062\n",
       "JOB_TITLE                     7\n",
       "SOC_CODE                      8\n",
       "SOC_NAME                      8\n",
       "NAIC_CODE                     5\n",
       "TOTAL_WORKERS                 0\n",
       "FULL_TIME_POSITION       647852\n",
       "PREVAILING_WAGE               1\n",
       "PW_UNIT_OF_PAY               49\n",
       "PW_WAGE_SOURCE               53\n",
       "PW_SOURCE_YEAR               61\n",
       "PW_SOURCE_OTHER            8187\n",
       "WAGE_RATE_OF_PAY_FROM         0\n",
       "WAGE_RATE_OF_PAY_TO           1\n",
       "WAGE_UNIT_OF_PAY             10\n",
       "H-1B_DEPENDENT            13272\n",
       "WILLFUL_VIOLATOR          13273\n",
       "WORKSITE_CITY                18\n",
       "WORKSITE_COUNTY            1344\n",
       "WORKSITE_STATE               10\n",
       "WORKSITE_POSTAL_CODE         32\n",
       "ORIGINAL_CERT_DATE       600760\n",
       "dtype: int64"
      ]
     },
     "execution_count": 3,
     "metadata": {},
     "output_type": "execute_result"
    }
   ],
   "source": [
    "#Exploration Data Analysis (EDA)\n",
    "#Checking missing values\n",
    "H1VisaData_df.isnull().sum()"
   ]
  },
  {
   "cell_type": "markdown",
   "metadata": {},
   "source": [
    "Removing columns that are not useful in our analysis, also they have null values:  employer_province, employer_phone_ext, agent_attorney_city, agent_attorney_state, full_time_position (no values), original_cert_date"
   ]
  },
  {
   "cell_type": "code",
   "execution_count": 27,
   "metadata": {
    "collapsed": false
   },
   "outputs": [
    {
     "name": "stderr",
     "output_type": "stream",
     "text": [
      "C:\\Users\\Alma_Lopez\\Anaconda3\\lib\\site-packages\\ipykernel\\__main__.py:4: SettingWithCopyWarning: \n",
      "A value is trying to be set on a copy of a slice from a DataFrame\n",
      "\n",
      "See the caveats in the documentation: http://pandas.pydata.org/pandas-docs/stable/indexing.html#indexing-view-versus-copy\n"
     ]
    },
    {
     "data": {
      "text/plain": [
       "CASE_NUMBER                  0\n",
       "CASE_STATUS                  0\n",
       "CASE_SUBMITTED               0\n",
       "DECISION_DATE                0\n",
       "VISA_CLASS                   0\n",
       "EMPLOYMENT_START_DATE        0\n",
       "EMPLOYMENT_END_DATE         11\n",
       "EMPLOYER_NAME               14\n",
       "EMPLOYER_ADDRESS             4\n",
       "EMPLOYER_CITY                5\n",
       "EMPLOYER_STATE              33\n",
       "EMPLOYER_POSTAL_CODE        20\n",
       "EMPLOYER_COUNTRY             2\n",
       "EMPLOYER_PHONE               2\n",
       "AGENT_ATTORNEY_NAME          0\n",
       "JOB_TITLE                    1\n",
       "SOC_CODE                     3\n",
       "SOC_NAME                     3\n",
       "NAIC_CODE                    4\n",
       "TOTAL_WORKERS                0\n",
       "PREVAILING_WAGE              1\n",
       "PW_UNIT_OF_PAY              47\n",
       "PW_WAGE_SOURCE              50\n",
       "PW_SOURCE_YEAR              58\n",
       "PW_SOURCE_OTHER           8184\n",
       "WAGE_RATE_OF_PAY_FROM        0\n",
       "WAGE_RATE_OF_PAY_TO          1\n",
       "WAGE_UNIT_OF_PAY             6\n",
       "H-1B_DEPENDENT           13265\n",
       "WILLFUL_VIOLATOR         13266\n",
       "WORKSITE_CITY               16\n",
       "WORKSITE_COUNTY           1342\n",
       "WORKSITE_STATE               8\n",
       "WORKSITE_POSTAL_CODE        30\n",
       "dtype: int64"
      ]
     },
     "execution_count": 27,
     "metadata": {},
     "output_type": "execute_result"
    }
   ],
   "source": [
    "H1VisaData2 = H1VisaData_df.loc[H1VisaData_df['EMPLOYMENT_START_DATE'] > '1-1-2016']\n",
    "H1VisaData2.drop(['EMPLOYER_PROVINCE', 'EMPLOYER_PHONE_EXT', 'AGENT_ATTORNEY_CITY', 'AGENT_ATTORNEY_STATE', 'FULL_TIME_POSITION', 'ORIGINAL_CERT_DATE'], axis=1, inplace=True)\n",
    "H1VisaData2.isnull().sum()"
   ]
  },
  {
   "cell_type": "markdown",
   "metadata": {},
   "source": [
    "## Simple Statistics"
   ]
  },
  {
   "cell_type": "markdown",
   "metadata": {},
   "source": [
    "## Visualize Attributes"
   ]
  },
  {
   "cell_type": "markdown",
   "metadata": {},
   "source": [
    "## Explore Join Attributes"
   ]
  },
  {
   "cell_type": "markdown",
   "metadata": {},
   "source": [
    "## Explore Attributes and Class"
   ]
  },
  {
   "cell_type": "markdown",
   "metadata": {},
   "source": [
    "## New Features"
   ]
  },
  {
   "cell_type": "markdown",
   "metadata": {},
   "source": [
    "## Exceptional Work"
   ]
  },
  {
   "cell_type": "code",
   "execution_count": null,
   "metadata": {
    "collapsed": true
   },
   "outputs": [],
   "source": []
  }
 ],
 "metadata": {
  "kernelspec": {
   "display_name": "Python 3",
   "language": "python",
   "name": "python3"
  },
  "language_info": {
   "codemirror_mode": {
    "name": "ipython",
    "version": 3
   },
   "file_extension": ".py",
   "mimetype": "text/x-python",
   "name": "python",
   "nbconvert_exporter": "python",
   "pygments_lexer": "ipython3",
   "version": "3.6.2"
  }
 },
 "nbformat": 4,
 "nbformat_minor": 2
}
