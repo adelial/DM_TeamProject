{
 "cells": [
  {
   "cell_type": "markdown",
   "metadata": {},
   "source": [
    "# Team Project Data Mining  - MSDS 7331\n",
    "### Name: Cynthia Alvarado, Christopher Havenstein, Alma Lopez, Hieu Nguyen\n",
    "#### Notepad for H-1 Visa project\n",
    "Public Disclosure File: H-1B iCERT LCA\n",
    "Federal Fiscal Year: 2016\n",
    "Reporting Period: October 1, 2015 through September 30, 2016\n",
    "Important Note: This public disclosure file contains administrative data from employers’ Labor Condition Applications (ETA Forms 9035 & 9035E) and the certification determinations processed by the Department’s Office of Foreign Labor Certification, Employment and Training Administration where the date of the determination was issued on or after October 1, 2015, and on or before September 30, 2016. All data were extracted from the Office of Foreign Labor Certification’s iCERT Visa Portal System; an electronic filing and application processing system of employer requests for H-1B nonimmigrant workers."
   ]
  },
  {
   "cell_type": "markdown",
   "metadata": {},
   "source": [
    "## Business Understanding"
   ]
  },
  {
   "cell_type": "markdown",
   "metadata": {},
   "source": [
    "## Data Meaning Type\n",
    "\n",
    "| Variable      | Description                                     |\n",
    "| ------------- |:-----------------------------------------------|\n",
    "| CASE_NUMBER   | Unique identifier assigned to each application submitted for processing to the Chicago National Processing Center.| \n",
    "| CASE_STATUS   | tatus associated with the last significant event or decision. Valid values include “Certified,” “Certified-Withdrawn,” Denied,” and “Withdrawn” | \n",
    "|  CASE_SUBMITTED | Date and time the application was submitted.  | \n",
    "| DECISION_DATE | Date on which the last significant event or decision was recorded by the Chicago National Processing Center.|\n",
    "| VISA_CLASS | Indicates the type of temporary application submitted for processing. R = H-1B; A = E-3 Australian; C = H-1B1 Chile; S = H-1B1 Singapore. Also referred to as “Program” in prior years.|\n",
    "| EMPLOYMENT_START_DATE | Beginning date of employment. |\n",
    "|EMPLOYMENT_END_DATE | Ending date of employment.|\n",
    "|EMPLOYER_NAME | Name of employer submitting labor condition application.|\n",
    "|EMPLOYER_ADDRESS|Employer address|\n",
    "|EMPLOYER_CITY|Employer City|\n",
    "|EMPLOYER_STATE|Employer State|\n",
    "|EMPLOYER_POSTAL_CODE|Employer Postal Code|\n",
    "|EMPLOYER_COUNTRY|Employer Country|\n",
    "|EMPLOYER_PROVINCE|Employer Province|\n",
    "|EMPLOYER_PHONE|Employer Phone|\n",
    "|EMPLOYER_PHONE_EXT|Employer Phone Extension|\n",
    "|AGENT_ATTORNEY_NAME | Name of Agent or Attorney filing an H-1B application on behalf of the employer.|\n",
    "|AGENT_ATTORNEY_CITY | City information for the Agent or Attorney filing an H-1B application on behalf of the employer.|\n",
    "|AGENT_ATTORNEY_STATE | State information for the Agent or Attorney filing an H-1B application on behalf of the employer.|\n",
    "|JOB_TITLE | Title of the job.|\n",
    "|SOC_CODE | Occupational code associated with the job being requested for temporary labor condition, as classified by the Standard Occupational Classification (SOC) System.|\n",
    "|SOC_NAME | Occupational name associated with the SOC_CODE|\n",
    "|NAIC_CODE | Industry code associated with the employer requesting permanent labor condition, as classified by the North American Industrial Classification System (NAICS)|\n",
    "|TOTAL_WORKERS | Total number of foreign workers requested by the Employer(s).|\n",
    "|FULL_TIME_POSITION | Y = Full Time Position; N = Part Time Position.|\n",
    "|PREVAILING_WAGE | Prevailing Wage for the job being requested for temporary labor condition.|\n",
    "|PW_UNIT_OF_PAY | Unit of Pay. Valid values include “Daily (DAI),” “Hourly (HR),” “Bi-weekly (BI),” “Weekly (WK),” “Monthly (MTH),” and “Yearly (YR)”.|\n",
    "|PW_SOURCE | Variables include \"OES\", \"CBA\", \"DBA\", \"SCA\" or \"Other\".|\n",
    "|PW_SOURCE_YEAR | Year the Prevailing Wage Source was Issued.|\n",
    "|PW_SOURCE_OTHER | If \"Other Wage Source\", provide the source of wage.|\n",
    "|WAGE_RATE_OF_PAY_FROM | Employer’s proposed wage rate.|\n",
    "|WAGE_RATE_OF_PAY_TO | Maximum proposed wage rate.|\n",
    "|WAGE_UNIT_OF_PAY | Unit of pay. Valid values include “Hour\", \"Week\", \"Bi-Weekly\", \"Month\", or \"Year\".|\n",
    "|H-1B_DEPENDENT | Y = Employer is H-1B Dependent; N = Employer is not H-1B Dependent.|\n",
    "|WILLFUL_VIOLATOR | Y = Employer has been previously found to be a Willful Violator; N = Employer has not been considered a Willful Violator.|\n",
    "|WORKSITE_CITY | City information of the foreign worker's intended area of employment.|\n",
    "|WORKSITE_COUNTY | County information of the foreign worker's intended area of employment. |\n",
    "|WORKSITE_STATE | State information of the foreign worker's intended area of employment.|\n",
    "|WORKSITE_POSTAL_CODE | Zip Code information of the foreign worker's intended area of employment.|\n",
    "|ORIGINAL_CERT_DATE | Original Certification Date for a Certified_Withdrawn application.|\n"
   ]
  },
  {
   "cell_type": "markdown",
   "metadata": {},
   "source": [
    "## Data Quality"
   ]
  },
  {
   "cell_type": "code",
   "execution_count": 2,
   "metadata": {
    "collapsed": true
   },
   "outputs": [],
   "source": [
    "#Import libraries\n",
    "import pandas as pd\n",
    "import math\n"
   ]
  },
  {
   "cell_type": "code",
   "execution_count": 3,
   "metadata": {
    "collapsed": false,
    "scrolled": true
   },
   "outputs": [
    {
     "name": "stderr",
     "output_type": "stream",
     "text": [
      "C:\\Users\\Alma_Lopez\\Anaconda3\\lib\\site-packages\\IPython\\core\\interactiveshell.py:2717: DtypeWarning: Columns (14,15) have mixed types. Specify dtype option on import or set low_memory=False.\n",
      "  interactivity=interactivity, compiler=compiler, result=result)\n"
     ]
    }
   ],
   "source": [
    "#Load Data\n",
    "filename = \"C:\\Alma@SMU\\MSDS_7331_DM\\H1Visa_Project\\H-1B_Disclosure_Data_FY16.csv\"\n",
    "H1VisaData_df = pd.read_csv(filename, encoding='cp1252')"
   ]
  },
  {
   "cell_type": "code",
   "execution_count": 4,
   "metadata": {
    "collapsed": false
   },
   "outputs": [
    {
     "name": "stdout",
     "output_type": "stream",
     "text": [
      "           NAIC_CODE  TOTAL_WORKERS  FULL_TIME_POSITION  PW_SOURCE_YEAR\n",
      "count  647847.000000  647852.000000                 0.0   647791.000000\n",
      "mean   445582.196718       2.027059                 NaN     2015.189675\n",
      "std    199112.876311       5.422948                 NaN        8.485919\n",
      "min        23.000000       0.000000                 NaN        0.000000\n",
      "25%    454111.000000       1.000000                 NaN     2015.000000\n",
      "50%    541511.000000       1.000000                 NaN     2015.000000\n",
      "75%    541511.000000       1.000000                 NaN     2016.000000\n",
      "max    928120.000000     169.000000                 NaN     7201.000000\n"
     ]
    },
    {
     "data": {
      "text/plain": [
       "CASE_NUMBER                   0\n",
       "CASE_STATUS                   0\n",
       "CASE_SUBMITTED                0\n",
       "DECISION_DATE                 0\n",
       "VISA_CLASS                    0\n",
       "EMPLOYMENT_START_DATE        17\n",
       "EMPLOYMENT_END_DATE          25\n",
       "EMPLOYER_NAME                15\n",
       "EMPLOYER_ADDRESS              5\n",
       "EMPLOYER_CITY                 6\n",
       "EMPLOYER_STATE               34\n",
       "EMPLOYER_POSTAL_CODE         21\n",
       "EMPLOYER_COUNTRY              3\n",
       "EMPLOYER_PROVINCE        640180\n",
       "EMPLOYER_PHONE                3\n",
       "EMPLOYER_PHONE_EXT       613590\n",
       "AGENT_ATTORNEY_NAME           0\n",
       "AGENT_ATTORNEY_CITY      241534\n",
       "AGENT_ATTORNEY_STATE     252062\n",
       "JOB_TITLE                     7\n",
       "SOC_CODE                      8\n",
       "SOC_NAME                      8\n",
       "NAIC_CODE                     5\n",
       "TOTAL_WORKERS                 0\n",
       "FULL_TIME_POSITION       647852\n",
       "PREVAILING_WAGE               1\n",
       "PW_UNIT_OF_PAY               49\n",
       "PW_WAGE_SOURCE               53\n",
       "PW_SOURCE_YEAR               61\n",
       "PW_SOURCE_OTHER            8187\n",
       "WAGE_RATE_OF_PAY_FROM         0\n",
       "WAGE_RATE_OF_PAY_TO           1\n",
       "WAGE_UNIT_OF_PAY             10\n",
       "H-1B_DEPENDENT            13272\n",
       "WILLFUL_VIOLATOR          13273\n",
       "WORKSITE_CITY                18\n",
       "WORKSITE_COUNTY            1344\n",
       "WORKSITE_STATE               10\n",
       "WORKSITE_POSTAL_CODE         32\n",
       "ORIGINAL_CERT_DATE       600760\n",
       "dtype: int64"
      ]
     },
     "execution_count": 4,
     "metadata": {},
     "output_type": "execute_result"
    }
   ],
   "source": [
    "#Exploration Data Analysis (EDA)\n",
    "#Checking missing values\n",
    "print(H1VisaData_df.describe())\n",
    "H1VisaData_df.isnull().sum()"
   ]
  },
  {
   "cell_type": "markdown",
   "metadata": {},
   "source": [
    "Removing columns that are not useful in our analysis, also they have null values:  employer_province, employer_phone_ext, agent_attorney_city, agent_attorney_state, full_time_position (no values), original_cert_date"
   ]
  },
  {
   "cell_type": "code",
   "execution_count": 5,
   "metadata": {
    "collapsed": false
   },
   "outputs": [],
   "source": [
    "H1VisaData_df.dtypes\n",
    "# Transform a object type to date type to proceed to do clean up based on dates fields\n",
    "H1VisaData_df['EMPLOYMENT_START_DATE'] =  pd.to_datetime(H1VisaData_df['EMPLOYMENT_START_DATE'], format='%m/%d/%Y')\n",
    "H1VisaData_df['CASE_SUBMITTED'] =  pd.to_datetime(H1VisaData_df['CASE_SUBMITTED'], format='%m/%d/%Y')\n",
    "H1VisaData_df['DECISION_DATE'] =  pd.to_datetime(H1VisaData_df['DECISION_DATE'], format='%m/%d/%Y') \n",
    "H1VisaData_df['EMPLOYMENT_END_DATE'] =  pd.to_datetime(H1VisaData_df['EMPLOYMENT_END_DATE'], format='%m/%d/%Y') \n"
   ]
  },
  {
   "cell_type": "code",
   "execution_count": 6,
   "metadata": {
    "collapsed": false
   },
   "outputs": [],
   "source": [
    "#Removing columns that are not needed for this analysis and has big percentage of missing values\n",
    "H1VisaClean_df = H1VisaData_df\n",
    "H1VisaClean_df.drop(['EMPLOYER_PROVINCE', 'EMPLOYER_PHONE_EXT', 'AGENT_ATTORNEY_CITY', 'AGENT_ATTORNEY_STATE', 'FULL_TIME_POSITION', 'ORIGINAL_CERT_DATE'], axis=1, inplace=True)"
   ]
  },
  {
   "cell_type": "code",
   "execution_count": 7,
   "metadata": {
    "collapsed": false
   },
   "outputs": [],
   "source": [
    "# Removing records that are not part of 2016 where goverments starts on 10/1/2015 in this case\n",
    "H1VisaClean_df = H1VisaClean_df[(H1VisaClean_df['EMPLOYMENT_START_DATE']>('2015-10-1'))]"
   ]
  },
  {
   "cell_type": "code",
   "execution_count": 8,
   "metadata": {
    "collapsed": false
   },
   "outputs": [
    {
     "data": {
      "text/plain": [
       "CASE_NUMBER                  0\n",
       "CASE_STATUS                  0\n",
       "CASE_SUBMITTED               0\n",
       "DECISION_DATE                0\n",
       "VISA_CLASS                   0\n",
       "EMPLOYMENT_START_DATE        0\n",
       "EMPLOYMENT_END_DATE         10\n",
       "EMPLOYER_NAME                0\n",
       "EMPLOYER_ADDRESS             1\n",
       "EMPLOYER_CITY                3\n",
       "EMPLOYER_STATE              31\n",
       "EMPLOYER_POSTAL_CODE        17\n",
       "EMPLOYER_COUNTRY             0\n",
       "EMPLOYER_PHONE               0\n",
       "AGENT_ATTORNEY_NAME          0\n",
       "JOB_TITLE                    1\n",
       "SOC_CODE                     2\n",
       "SOC_NAME                     2\n",
       "NAIC_CODE                    2\n",
       "TOTAL_WORKERS                0\n",
       "PREVAILING_WAGE              1\n",
       "PW_UNIT_OF_PAY              46\n",
       "PW_WAGE_SOURCE              49\n",
       "PW_SOURCE_YEAR              57\n",
       "PW_SOURCE_OTHER           7080\n",
       "WAGE_RATE_OF_PAY_FROM        0\n",
       "WAGE_RATE_OF_PAY_TO          1\n",
       "WAGE_UNIT_OF_PAY             5\n",
       "H-1B_DEPENDENT           12693\n",
       "WILLFUL_VIOLATOR         12694\n",
       "WORKSITE_CITY               15\n",
       "WORKSITE_COUNTY           1253\n",
       "WORKSITE_STATE               7\n",
       "WORKSITE_POSTAL_CODE        29\n",
       "IMP_EMP_END_DATE             0\n",
       "IMP_EMP_ADDRESS              0\n",
       "IMP_EMP_CITY                 0\n",
       "IMP_EMP_STATE                0\n",
       "IMP_EMP_ZIP                  0\n",
       "dtype: int64"
      ]
     },
     "execution_count": 8,
     "metadata": {},
     "output_type": "execute_result"
    }
   ],
   "source": [
    "from datetime import timedelta\n",
    "#Removing records without employer name, this is mandatory data for H-1 visa process, this data might be a human mistake when\n",
    "#recording the information\n",
    "H1VisaClean_df = H1VisaClean_df.dropna(subset=['EMPLOYER_NAME'])\n",
    "# We had 10 misisng values for end_date so based on rules in H-1 visa the maximo value that can be granted is 3 years so these\n",
    "# values will be imputed based on start_date+3 years\n",
    "H1VisaClean_df['IMP_EMP_END_DATE'] = H1VisaClean_df['EMPLOYMENT_END_DATE']\n",
    "H1VisaClean_df['IMP_EMP_END_DATE'].fillna(H1VisaClean_df['EMPLOYMENT_START_DATE']+ timedelta(days=1095), inplace=True)\n",
    "H1VisaClean_df['IMP_EMP_ADDRESS'] = H1VisaClean_df['EMPLOYER_ADDRESS']\n",
    "H1VisaClean_df['IMP_EMP_ADDRESS'].fillna(\"NO DEFINED\", inplace=True)\n",
    "H1VisaClean_df['IMP_EMP_CITY'] = H1VisaClean_df['EMPLOYER_CITY']\n",
    "H1VisaClean_df['IMP_EMP_CITY'].fillna(\"NO DEFINED\", inplace=True)\n",
    "H1VisaClean_df['IMP_EMP_STATE'] = H1VisaClean_df['EMPLOYER_STATE']\n",
    "H1VisaClean_df['IMP_EMP_STATE'].fillna(\"NO DEFINED\", inplace=True)\n",
    "H1VisaClean_df['IMP_EMP_ZIP'] = H1VisaClean_df['EMPLOYER_POSTAL_CODE']\n",
    "H1VisaClean_df['IMP_EMP_ZIP'].fillna(\"00000\", inplace=True)\n",
    "H1VisaClean_df.isnull().sum()"
   ]
  },
  {
   "cell_type": "code",
   "execution_count": 9,
   "metadata": {
    "collapsed": false
   },
   "outputs": [
    {
     "name": "stdout",
     "output_type": "stream",
     "text": [
      "         VISA_CLASS          CASE_STATUS  counts\n",
      "0    E-3 Australian            CERTIFIED    9904\n",
      "1    E-3 Australian  CERTIFIED-WITHDRAWN     312\n",
      "2    E-3 Australian               DENIED     900\n",
      "3    E-3 Australian            WITHDRAWN     292\n",
      "4              H-1B            CERTIFIED  556047\n",
      "5              H-1B  CERTIFIED-WITHDRAWN   22260\n",
      "6              H-1B               DENIED    8168\n",
      "7              H-1B            WITHDRAWN   17844\n",
      "8       H-1B1 Chile            CERTIFIED     742\n",
      "9       H-1B1 Chile  CERTIFIED-WITHDRAWN      23\n",
      "10      H-1B1 Chile               DENIED      67\n",
      "11      H-1B1 Chile            WITHDRAWN      23\n",
      "12  H-1B1 Singapore            CERTIFIED     953\n",
      "13  H-1B1 Singapore  CERTIFIED-WITHDRAWN      21\n",
      "14  H-1B1 Singapore               DENIED      49\n",
      "15  H-1B1 Singapore            WITHDRAWN      32\n"
     ]
    }
   ],
   "source": [
    "VisaTotals_df = H1VisaClean_df.groupby(['VISA_CLASS', 'CASE_STATUS']).size().reset_index(name='counts')\n",
    "print(VisaTotals_df)"
   ]
  },
  {
   "cell_type": "code",
   "execution_count": 53,
   "metadata": {
    "collapsed": false
   },
   "outputs": [],
   "source": [
    "import numpy as np\n",
    "import pandas as pd\n",
    "import matplotlib as mpl\n",
    "import matplotlib.pyplot as plt\n",
    "import seaborn as sns\n",
    "\n",
    "#  HERE I WILL PROCEED WITH BASIC STATS LIKE THE CLASS WITH THE TITANIC\n"
   ]
  },
  {
   "cell_type": "markdown",
   "metadata": {},
   "source": [
    "## Simple Statistics"
   ]
  },
  {
   "cell_type": "code",
   "execution_count": null,
   "metadata": {
    "collapsed": false
   },
   "outputs": [],
   "source": []
  },
  {
   "cell_type": "markdown",
   "metadata": {},
   "source": [
    "## Visualize Attributes"
   ]
  },
  {
   "cell_type": "markdown",
   "metadata": {},
   "source": [
    "## Explore Join Attributes"
   ]
  },
  {
   "cell_type": "markdown",
   "metadata": {},
   "source": [
    "## Explore Attributes and Class"
   ]
  },
  {
   "cell_type": "markdown",
   "metadata": {},
   "source": [
    "## New Features"
   ]
  },
  {
   "cell_type": "markdown",
   "metadata": {},
   "source": [
    "## Exceptional Work"
   ]
  },
  {
   "cell_type": "code",
   "execution_count": 22,
   "metadata": {
    "collapsed": true
   },
   "outputs": [],
   "source": [
    "# Add the facets overview python code to the python path\n",
    "import sys\n",
    "sys.path.append('./facets/facets_overview/python')"
   ]
  },
  {
   "cell_type": "code",
   "execution_count": 23,
   "metadata": {
    "collapsed": true
   },
   "outputs": [],
   "source": [
    "# Load UCI census train and test data into dataframes.\n",
    "import pandas as pd\n",
    "features = [\"Age\", \"Workclass\", \"fnlwgt\", \"Education\", \"Education-Num\", \"Marital Status\",\n",
    "            \"Occupation\", \"Relationship\", \"Race\", \"Sex\", \"Capital Gain\", \"Capital Loss\",\n",
    "            \"Hours per week\", \"Country\", \"Target\"]\n",
    "train_data = pd.read_csv(\n",
    "    \"https://archive.ics.uci.edu/ml/machine-learning-databases/adult/adult.data\",\n",
    "    names=features,\n",
    "    sep=r'\\s*,\\s*',\n",
    "    engine='python',\n",
    "    na_values=\"?\")\n",
    "test_data = pd.read_csv(\n",
    "    \"https://archive.ics.uci.edu/ml/machine-learning-databases/adult/adult.test\",\n",
    "    names=features,\n",
    "    sep=r'\\s*,\\s*',\n",
    "    skiprows=[0],\n",
    "    engine='python',\n",
    "    na_values=\"?\")"
   ]
  },
  {
   "cell_type": "code",
   "execution_count": 24,
   "metadata": {
    "collapsed": false
   },
   "outputs": [],
   "source": [
    "# Calculate the feature statistics proto from the datasets and stringify it for use in facets overview\n",
    "from generic_feature_statistics_generator import GenericFeatureStatisticsGenerator\n",
    "import base64\n",
    "\n",
    "gfsg = GenericFeatureStatisticsGenerator()\n",
    "proto = gfsg.ProtoFromDataFrames([{'name': 'train', 'table': train_data},\n",
    "                                  {'name': 'test', 'table': test_data}])\n",
    "protostr = base64.b64encode(proto.SerializeToString()).decode(\"utf-8\")"
   ]
  },
  {
   "cell_type": "code",
   "execution_count": 25,
   "metadata": {
    "collapsed": false
   },
   "outputs": [
    {
     "data": {
      "text/html": [
       "<link rel=\"import\" href=\"/nbextensions/facets-dist/facets-jupyter.html\" >\n",
       "        <facets-overview id=\"elem\"></facets-overview>\n",
       "        <script>\n",
       "          document.querySelector(\"#elem\").protoInput = \"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\";\n",
       "        </script>"
      ],
      "text/plain": [
       "<IPython.core.display.HTML object>"
      ]
     },
     "metadata": {},
     "output_type": "display_data"
    }
   ],
   "source": [
    "# Display the facets overview visualization for this data\n",
    "from IPython.core.display import display, HTML\n",
    "\n",
    "HTML_TEMPLATE = \"\"\"<link rel=\"import\" href=\"/nbextensions/facets-dist/facets-jupyter.html\" >\n",
    "        <facets-overview id=\"elem\"></facets-overview>\n",
    "        <script>\n",
    "          document.querySelector(\"#elem\").protoInput = \"{protostr}\";\n",
    "        </script>\"\"\"\n",
    "html = HTML_TEMPLATE.format(protostr=protostr)\n",
    "display(HTML(html))"
   ]
  },
  {
   "cell_type": "code",
   "execution_count": null,
   "metadata": {
    "collapsed": true
   },
   "outputs": [],
   "source": []
  }
 ],
 "metadata": {
  "celltoolbar": "Raw Cell Format",
  "kernelspec": {
   "display_name": "Python 3",
   "language": "python",
   "name": "python3"
  },
  "language_info": {
   "codemirror_mode": {
    "name": "ipython",
    "version": 3
   },
   "file_extension": ".py",
   "mimetype": "text/x-python",
   "name": "python",
   "nbconvert_exporter": "python",
   "pygments_lexer": "ipython3",
   "version": "3.6.2"
  }
 },
 "nbformat": 4,
 "nbformat_minor": 2
}
