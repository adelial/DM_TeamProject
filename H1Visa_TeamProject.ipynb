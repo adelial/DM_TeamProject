{
 "cells": [
  {
   "cell_type": "markdown",
   "metadata": {},
   "source": [
    "# Team Project Data Mining  - MSDS 7331\n",
    "### Name: Cynthia Alvarado, Christopher Havenstein, Alma Lopez, Hieu Nguyen\n",
    "#### Notepad for H-1 Visa project\n",
    "Public Disclosure File: H-1B iCERT LCA\n",
    "Federal Fiscal Year: 2016\n",
    "Reporting Period: October 1, 2015 through September 30, 2016\n",
    "Important Note: This public disclosure file contains administrative data from employers’ Labor Condition Applications (ETA Forms 9035 & 9035E) and the certification determinations processed by the Department’s Office of Foreign Labor Certification, Employment and Training Administration where the date of the determination was issued on or after October 1, 2015, and on or before September 30, 2016. All data were extracted from the Office of Foreign Labor Certification’s iCERT Visa Portal System; an electronic filing and application processing system of employer requests for H-1B nonimmigrant workers."
   ]
  },
  {
   "cell_type": "markdown",
   "metadata": {},
   "source": [
    "## Business Understanding"
   ]
  },
  {
   "cell_type": "markdown",
   "metadata": {},
   "source": [
    "## Data Meaning Type"
   ]
  },
  {
   "cell_type": "markdown",
   "metadata": {},
   "source": [
    "## Data Quality"
   ]
  },
  {
   "cell_type": "code",
   "execution_count": 1,
   "metadata": {
    "collapsed": true
   },
   "outputs": [],
   "source": [
    "#Import libraries\n",
    "import pandas as pd\n",
    "import math"
   ]
  },
  {
   "cell_type": "code",
   "execution_count": 3,
   "metadata": {
    "collapsed": false,
    "scrolled": true
   },
   "outputs": [
    {
     "name": "stderr",
     "output_type": "stream",
     "text": [
      "C:\\Users\\Alma_Lopez\\Anaconda3\\lib\\site-packages\\IPython\\core\\interactiveshell.py:2717: DtypeWarning: Columns (14,15) have mixed types. Specify dtype option on import or set low_memory=False.\n",
      "  interactivity=interactivity, compiler=compiler, result=result)\n"
     ]
    }
   ],
   "source": [
    "#Load Data\n",
    "filename = \"C:\\Alma@SMU\\MSDS_7331_DM\\H1Visa_Project\\H-1B_Disclosure_Data_FY16.csv\"\n",
    "H1VisaData_df = pd.read_csv(filename, encoding='cp1252')"
   ]
  },
  {
   "cell_type": "code",
   "execution_count": 4,
   "metadata": {
    "collapsed": false
   },
   "outputs": [
    {
     "data": {
      "text/plain": [
       "CASE_NUMBER                   0\n",
       "CASE_STATUS                   0\n",
       "CASE_SUBMITTED                0\n",
       "DECISION_DATE                 0\n",
       "VISA_CLASS                    0\n",
       "EMPLOYMENT_START_DATE        17\n",
       "EMPLOYMENT_END_DATE          25\n",
       "EMPLOYER_NAME                15\n",
       "EMPLOYER_ADDRESS              5\n",
       "EMPLOYER_CITY                 6\n",
       "EMPLOYER_STATE               34\n",
       "EMPLOYER_POSTAL_CODE         21\n",
       "EMPLOYER_COUNTRY              3\n",
       "EMPLOYER_PROVINCE        640180\n",
       "EMPLOYER_PHONE                3\n",
       "EMPLOYER_PHONE_EXT       613590\n",
       "AGENT_ATTORNEY_NAME           0\n",
       "AGENT_ATTORNEY_CITY      241534\n",
       "AGENT_ATTORNEY_STATE     252062\n",
       "JOB_TITLE                     7\n",
       "SOC_CODE                      8\n",
       "SOC_NAME                      8\n",
       "NAIC_CODE                     5\n",
       "TOTAL_WORKERS                 0\n",
       "FULL_TIME_POSITION       647852\n",
       "PREVAILING_WAGE               1\n",
       "PW_UNIT_OF_PAY               49\n",
       "PW_WAGE_SOURCE               53\n",
       "PW_SOURCE_YEAR               61\n",
       "PW_SOURCE_OTHER            8187\n",
       "WAGE_RATE_OF_PAY_FROM         0\n",
       "WAGE_RATE_OF_PAY_TO           1\n",
       "WAGE_UNIT_OF_PAY             10\n",
       "H-1B_DEPENDENT            13272\n",
       "WILLFUL_VIOLATOR          13273\n",
       "WORKSITE_CITY                18\n",
       "WORKSITE_COUNTY            1344\n",
       "WORKSITE_STATE               10\n",
       "WORKSITE_POSTAL_CODE         32\n",
       "ORIGINAL_CERT_DATE       600760\n",
       "dtype: int64"
      ]
     },
     "execution_count": 4,
     "metadata": {},
     "output_type": "execute_result"
    }
   ],
   "source": [
    "#Exploration Data Analysis (EDA)\n",
    "#Checking missing values\n",
    "H1VisaData_df.isnull().sum()"
   ]
  },
  {
   "cell_type": "markdown",
   "metadata": {},
   "source": [
    "## Simple Statistics"
   ]
  },
  {
   "cell_type": "markdown",
   "metadata": {},
   "source": [
    "## Visualize Attributes"
   ]
  },
  {
   "cell_type": "markdown",
   "metadata": {},
   "source": [
    "## Explore Join Attributes"
   ]
  },
  {
   "cell_type": "markdown",
   "metadata": {},
   "source": [
    "## Explore Attributes and Class"
   ]
  },
  {
   "cell_type": "markdown",
   "metadata": {},
   "source": [
    "## New Features"
   ]
  },
  {
   "cell_type": "markdown",
   "metadata": {},
   "source": [
    "## Exceptional Work"
   ]
  },
  {
   "cell_type": "code",
   "execution_count": null,
   "metadata": {
    "collapsed": true
   },
   "outputs": [],
   "source": []
  }
 ],
 "metadata": {
  "kernelspec": {
   "display_name": "Python 3",
   "language": "python",
   "name": "python3"
  },
  "language_info": {
   "codemirror_mode": {
    "name": "ipython",
    "version": 3
   },
   "file_extension": ".py",
   "mimetype": "text/x-python",
   "name": "python",
   "nbconvert_exporter": "python",
   "pygments_lexer": "ipython3",
   "version": "3.6.2"
  }
 },
 "nbformat": 4,
 "nbformat_minor": 2
}
